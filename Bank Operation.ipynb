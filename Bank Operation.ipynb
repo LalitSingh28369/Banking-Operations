{
 "cells": [
  {
   "cell_type": "markdown",
   "id": "4ee3badb",
   "metadata": {},
   "source": [
    "# BANK OPERATIONS USING OBJECT ORIENTED PROGRAMMING IN PYTHON"
   ]
  },
  {
   "cell_type": "code",
   "execution_count": 6,
   "id": "e05fa775",
   "metadata": {},
   "outputs": [],
   "source": [
    "class Bank:\n",
    "    bankname=\"STATE BANK OF INDIA\" #class variables\n",
    "    branch=\"BARRA BRANCH\"\n",
    "\n",
    "    #create account\n",
    "    def __init__(self,username,pan,address):\n",
    "        self.username=username #instance variables\n",
    "        self.pan=pan #instance variables\n",
    "        self.address=address #instance variables\n",
    "        self.balance=0.0 # set account balance to 0.0\n",
    "        print(f'Hello {self.username} Congratulations ! your account craeted successfully ')\n",
    "\n",
    "    #deposit\n",
    "    def deposit(self,amount):\n",
    "        self.balance=self.balance+amount\n",
    "        print(f'{amount} deposited successfully')\n",
    "\n",
    "    #withdraw\n",
    "    def withdraw(self,amount):\n",
    "        if amount<self.balance:\n",
    "            self.balance=self.balance-amount\n",
    "            print(f'{amount} withdraw successfully')\n",
    "        else:\n",
    "            print('Insufficent Fund...')\n",
    "\n",
    "    #ministatement\n",
    "    def ministatement(self):\n",
    "        print(f'Your current account balance is {self.balance}')\n",
    "        "
   ]
  },
  {
   "cell_type": "code",
   "execution_count": 7,
   "id": "1811603a",
   "metadata": {},
   "outputs": [
    {
     "name": "stdout",
     "output_type": "stream",
     "text": [
      "Welcome to STATE BANK OF INDIA , BARRA BRANCH\n",
      "Enter Your name :Lalit\n",
      "Enter PAN card number : 12b1212\n",
      "Enter Your address : wdbb23 j23bj\n",
      "Hello Lalit Congratulations ! your account craeted successfully \n"
     ]
    }
   ],
   "source": [
    "print(f'Welcome to {Bank.bankname} , {Bank.branch}')\n",
    "#collect user data for account creation\n",
    "username=input('Enter Your name :')\n",
    "pan=input('Enter PAN card number : ')\n",
    "address=input('Enter Your address : ')\n",
    "\n",
    "b=Bank(username,pan,address) # object creation based on user provided data\n"
   ]
  },
  {
   "cell_type": "code",
   "execution_count": null,
   "id": "d7a44eb0",
   "metadata": {},
   "outputs": [
    {
     "name": "stdout",
     "output_type": "stream",
     "text": [
      "\n",
      "Please Select any Option : \n",
      "1.Deposit 2.Withdraw 3.Ministatement 4.Stop\n",
      " 1\n",
      "Enter Deposited amount : 2332\n",
      "2332.0 deposited successfully\n",
      "\n",
      "Please Select any Option : \n",
      "1.Deposit 2.Withdraw 3.Ministatement 4.Stop\n"
     ]
    }
   ],
   "source": [
    "while True:\n",
    "    print('\\nPlease Select any Option : ')\n",
    "    print('1.Deposit 2.Withdraw 3.Ministatement 4.Stop')\n",
    "    option=int(input(' '))\n",
    "\n",
    "    if option==1:\n",
    "        amount=float(input('Enter Deposited amount : '))\n",
    "        b.deposit(amount)\n",
    "\n",
    "    elif option==2:\n",
    "        amount=float(input('Enter Withdraw amount : '))\n",
    "        b.withdraw(amount)\n",
    "\n",
    "    elif option==3:\n",
    "        b.ministatement()\n",
    "\n",
    "    elif option==4:\n",
    "        print('Thanks for using Indian Express Bank .... ')\n",
    "        break\n",
    "    else:\n",
    "        print('Invalid Option plz select a  valid option')"
   ]
  },
  {
   "cell_type": "code",
   "execution_count": null,
   "id": "5e4f79aa",
   "metadata": {},
   "outputs": [],
   "source": []
  }
 ],
 "metadata": {
  "kernelspec": {
   "display_name": "Python 3 (ipykernel)",
   "language": "python",
   "name": "python3"
  },
  "language_info": {
   "codemirror_mode": {
    "name": "ipython",
    "version": 3
   },
   "file_extension": ".py",
   "mimetype": "text/x-python",
   "name": "python",
   "nbconvert_exporter": "python",
   "pygments_lexer": "ipython3",
   "version": "3.9.12"
  }
 },
 "nbformat": 4,
 "nbformat_minor": 5
}
